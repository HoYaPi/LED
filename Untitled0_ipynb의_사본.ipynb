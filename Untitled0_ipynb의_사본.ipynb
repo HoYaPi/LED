{
  "nbformat": 4,
  "nbformat_minor": 0,
  "metadata": {
    "colab": {
      "name": "Untitled0.ipynb의 사본",
      "provenance": [],
      "collapsed_sections": [],
      "authorship_tag": "ABX9TyPAKqGxstbDQboPL/o8JoX+",
      "include_colab_link": true
    },
    "kernelspec": {
      "name": "python3",
      "display_name": "Python 3"
    },
    "language_info": {
      "name": "python"
    }
  },
  "cells": [
    {
      "cell_type": "markdown",
      "metadata": {
        "id": "view-in-github",
        "colab_type": "text"
      },
      "source": [
        "<a href=\"https://colab.research.google.com/github/HoYaPi/LED/blob/master/Untitled0_ipynb%EC%9D%98_%EC%82%AC%EB%B3%B8.ipynb\" target=\"_parent\"><img src=\"https://colab.research.google.com/assets/colab-badge.svg\" alt=\"Open In Colab\"/></a>"
      ]
    },
    {
      "cell_type": "code",
      "metadata": {
        "colab": {
          "base_uri": "https://localhost:8080/"
        },
        "id": "6oy0553N-jKm",
        "outputId": "b4686a32-57d2-4b90-89a4-9b53109001cc"
      },
      "source": [
        "!pip install konlpy"
      ],
      "execution_count": null,
      "outputs": [
        {
          "output_type": "stream",
          "name": "stdout",
          "text": [
            "Collecting konlpy\n",
            "  Downloading konlpy-0.5.2-py2.py3-none-any.whl (19.4 MB)\n",
            "\u001b[K     |████████████████████████████████| 19.4 MB 1.1 MB/s \n",
            "\u001b[?25hRequirement already satisfied: numpy>=1.6 in /usr/local/lib/python3.7/dist-packages (from konlpy) (1.19.5)\n",
            "Collecting colorama\n",
            "  Downloading colorama-0.4.4-py2.py3-none-any.whl (16 kB)\n",
            "Collecting beautifulsoup4==4.6.0\n",
            "  Downloading beautifulsoup4-4.6.0-py3-none-any.whl (86 kB)\n",
            "\u001b[K     |████████████████████████████████| 86 kB 6.7 MB/s \n",
            "\u001b[?25hRequirement already satisfied: tweepy>=3.7.0 in /usr/local/lib/python3.7/dist-packages (from konlpy) (3.10.0)\n",
            "Requirement already satisfied: lxml>=4.1.0 in /usr/local/lib/python3.7/dist-packages (from konlpy) (4.2.6)\n",
            "Collecting JPype1>=0.7.0\n",
            "  Downloading JPype1-1.3.0-cp37-cp37m-manylinux_2_5_x86_64.manylinux1_x86_64.whl (448 kB)\n",
            "\u001b[K     |████████████████████████████████| 448 kB 77.8 MB/s \n",
            "\u001b[?25hRequirement already satisfied: typing-extensions in /usr/local/lib/python3.7/dist-packages (from JPype1>=0.7.0->konlpy) (3.10.0.2)\n",
            "Requirement already satisfied: requests-oauthlib>=0.7.0 in /usr/local/lib/python3.7/dist-packages (from tweepy>=3.7.0->konlpy) (1.3.0)\n",
            "Requirement already satisfied: requests[socks]>=2.11.1 in /usr/local/lib/python3.7/dist-packages (from tweepy>=3.7.0->konlpy) (2.23.0)\n",
            "Requirement already satisfied: six>=1.10.0 in /usr/local/lib/python3.7/dist-packages (from tweepy>=3.7.0->konlpy) (1.15.0)\n",
            "Requirement already satisfied: oauthlib>=3.0.0 in /usr/local/lib/python3.7/dist-packages (from requests-oauthlib>=0.7.0->tweepy>=3.7.0->konlpy) (3.1.1)\n",
            "Requirement already satisfied: urllib3!=1.25.0,!=1.25.1,<1.26,>=1.21.1 in /usr/local/lib/python3.7/dist-packages (from requests[socks]>=2.11.1->tweepy>=3.7.0->konlpy) (1.24.3)\n",
            "Requirement already satisfied: idna<3,>=2.5 in /usr/local/lib/python3.7/dist-packages (from requests[socks]>=2.11.1->tweepy>=3.7.0->konlpy) (2.10)\n",
            "Requirement already satisfied: chardet<4,>=3.0.2 in /usr/local/lib/python3.7/dist-packages (from requests[socks]>=2.11.1->tweepy>=3.7.0->konlpy) (3.0.4)\n",
            "Requirement already satisfied: certifi>=2017.4.17 in /usr/local/lib/python3.7/dist-packages (from requests[socks]>=2.11.1->tweepy>=3.7.0->konlpy) (2021.10.8)\n",
            "Requirement already satisfied: PySocks!=1.5.7,>=1.5.6 in /usr/local/lib/python3.7/dist-packages (from requests[socks]>=2.11.1->tweepy>=3.7.0->konlpy) (1.7.1)\n",
            "Installing collected packages: JPype1, colorama, beautifulsoup4, konlpy\n",
            "  Attempting uninstall: beautifulsoup4\n",
            "    Found existing installation: beautifulsoup4 4.6.3\n",
            "    Uninstalling beautifulsoup4-4.6.3:\n",
            "      Successfully uninstalled beautifulsoup4-4.6.3\n",
            "Successfully installed JPype1-1.3.0 beautifulsoup4-4.6.0 colorama-0.4.4 konlpy-0.5.2\n"
          ]
        }
      ]
    },
    {
      "cell_type": "code",
      "metadata": {
        "id": "un4PhtFN_et4"
      },
      "source": [
        "import os\n",
        "from gensim.models import doc2vec\n",
        "from gensim.models.doc2vec import TaggedDocument\n"
      ],
      "execution_count": null,
      "outputs": []
    },
    {
      "cell_type": "code",
      "metadata": {
        "id": "FeNZUBQ3B-EL"
      },
      "source": [
        "faqs=[[\"1\",\"하루 수면량이 7시간 이상인가요?\",\"네\"],\n",
        "      [\"2\",\"1주일중 3일 이상 술을 드시나요?\",\"네\"],\n",
        "      [\"3\",\"하루에 1리터 이상의 물을 마시나요?\",\"네\"],\n",
        "      [\"4\",\"평소 얼굴에 기름이 많으신가요?\",\"네\"],\n",
        "      [\"5\",\"흡연을 하시나요?\",\"네\"]\n",
        "]\n",
        "#데이터 생성"
      ],
      "execution_count": null,
      "outputs": []
    },
    {
      "cell_type": "code",
      "metadata": {
        "id": "O09F0y9xEIvj"
      },
      "source": [
        "#데이터 학습시키기\n",
        "#형태소 분석\n",
        "import jpype\n",
        "#형태소 분석기 kkma /분석기 어러개가 있음\n",
        "from konlpy.tag import Kkma "
      ],
      "execution_count": null,
      "outputs": []
    },
    {
      "cell_type": "code",
      "metadata": {
        "id": "b_60mecTFbnq"
      },
      "source": [
        "kkma=Kkma()\n",
        "#형태소 분석 시작\n",
        "\n",
        "#토큰화\n",
        "def tokenizer_kkma(doc):\n",
        "    jpype.attachThreadToJVM()\n",
        "  #단어 형태와 품사 합침\n",
        "    token_doc=['/'.join(word) for word in kkma.pos(doc)]\n",
        "    return token_doc\n"
      ],
      "execution_count": null,
      "outputs": []
    },
    {
      "cell_type": "code",
      "metadata": {
        "colab": {
          "base_uri": "https://localhost:8080/"
        },
        "id": "-nwj2qutHWJE",
        "outputId": "6285240e-93e3-4f52-a2e3-d89393869871"
      },
      "source": [
        "tokenizer_kkma(faqs[0][1])\n",
        "#형태소 분석 확인"
      ],
      "execution_count": null,
      "outputs": [
        {
          "output_type": "stream",
          "name": "stderr",
          "text": [
            "/usr/local/lib/python3.7/dist-packages/ipykernel_launcher.py:6: DeprecationWarning: jpype._core.attachThreadToJVM is deprecated, use java.lang.Thread.attach instead\n",
            "  \n"
          ]
        },
        {
          "output_type": "execute_result",
          "data": {
            "text/plain": [
              "['하루/NNG',\n",
              " '수면/NNG',\n",
              " '량/NNG',\n",
              " '이/JKS',\n",
              " '7/NR',\n",
              " '시간/NNM',\n",
              " '이상/NNG',\n",
              " '이/VCP',\n",
              " 'ㄴ가요/EFQ',\n",
              " '?/SF']"
            ]
          },
          "metadata": {},
          "execution_count": 18
        }
      ]
    },
    {
      "cell_type": "code",
      "metadata": {
        "id": "ip0lHdQZHwY5"
      },
      "source": [
        "#리스트에서 각 문장부분 토큰화 \n",
        "token_faqs=[(tokenizer_kkma(row[1]),row[0])for row in faqs]\n",
        "\n",
        "# Doc2Vec에서 사용하는 태그문서형으로 변경\n",
        "tagged_faqs=[TaggedDocument(d,[c]) for d,c in token_faqs]"
      ],
      "execution_count": null,
      "outputs": []
    },
    {
      "cell_type": "code",
      "metadata": {
        "colab": {
          "base_uri": "https://localhost:8080/"
        },
        "id": "6ozTmeLEJLnV",
        "outputId": "48c0f6ff-81e3-4232-9004-12501f00db37"
      },
      "source": [
        "tagged_faqs"
      ],
      "execution_count": null,
      "outputs": [
        {
          "output_type": "execute_result",
          "data": {
            "text/plain": [
              "[TaggedDocument(words=['하루/NNG', '수면/NNG', '량/NNG', '이/JKS', '7/NR', '시간/NNM', '이상/NNG', '이/VCP', 'ㄴ가요/EFQ', '?/SF'], tags=['1']),\n",
              " TaggedDocument(words=['1/NR', '주일/NNM', '중/NNB', '3/NR', '일/NNM', '이상/NNG', '술/NNG', '을/JKO', '들/VV', '시/EPH', '나요/EFQ', '?/SF'], tags=['2']),\n",
              " TaggedDocument(words=['하루/NNG', '에/JKM', '1/NR', '리터/NNM', '이상/NNG', '의/JKG', '물/NNG', '을/JKO', '마시/VV', '나요/EFQ', '?/SF'], tags=['3']),\n",
              " TaggedDocument(words=['평소/NNG', '얼굴/NNG', '에/JKM', '기름/NNG', '이/JKS', '많/VA', '으시/EPH', 'ㄴ가요/EFQ', '?/SF'], tags=['4']),\n",
              " TaggedDocument(words=['흡연/NNG', '을/JKO', '하/VV', '시/EPH', '나요/EFQ', '?/SF'], tags=['5'])]"
            ]
          },
          "metadata": {},
          "execution_count": 22
        }
      ]
    },
    {
      "cell_type": "code",
      "metadata": {
        "id": "uI0OSuvQJ7O7"
      },
      "source": [
        "# make model\n",
        "import multiprocessing\n",
        "cores = multiprocessing.cpu_count()\n",
        "d2v_faqs = doc2vec.Doc2Vec(\n",
        "                                vector_size=50, \n",
        "                                alpha=0.025,\n",
        "                                min_alpha=0.025,\n",
        "                                hs=1,\n",
        "                                negative=0,\n",
        "                                dm=0,\n",
        "                                dbow_words = 1,\n",
        "                                min_count = 1,\n",
        "                                workers = cores,\n",
        "                                seed=0\n",
        "                                )\n",
        "d2v_faqs.build_vocab(tagged_faqs)\n",
        "\n",
        "# train document vectors\n",
        "for epoch in range(10):\n",
        "    d2v_faqs.train(tagged_faqs,\n",
        "                                total_examples = d2v_faqs.corpus_count,\n",
        "                                epochs = d2v_faqs.epochs\n",
        "                                   )\n",
        "    d2v_faqs.alpha -= 0.0025 # decrease the learning rate\n",
        "    d2v_faqs.min_alpha = d2v_faqs.alpha # fix the learning rate, no decay"
      ],
      "execution_count": null,
      "outputs": []
    },
    {
      "cell_type": "code",
      "metadata": {
        "colab": {
          "base_uri": "https://localhost:8080/"
        },
        "id": "opmcizhRH8Hw",
        "outputId": "9df669f8-f15e-4076-fa77-647a226cbae4"
      },
      "source": [
        "test_string = \"1주일중 3일 이상 술을 드시나요?\"\n",
        "token_test_string = tokenizer_kkma(test_string)\n",
        "predict_vector = d2v_faqs.infer_vector(\"하루 수면량이 7시간 이상인가요?\")\n",
        "predict_vector"
      ],
      "execution_count": null,
      "outputs": [
        {
          "output_type": "execute_result",
          "data": {
            "text/plain": [
              "array([-0.00015065,  0.00990373,  0.00996982, -0.00237251, -0.0088932 ,\n",
              "        0.00304152, -0.00506233, -0.00361235, -0.00950807, -0.00787289,\n",
              "       -0.00675322,  0.00217613,  0.00702553, -0.00930904,  0.00345286,\n",
              "        0.00477533, -0.00515686, -0.00593786,  0.00408933, -0.00940941,\n",
              "        0.00463323,  0.00581712,  0.00731101,  0.00182941, -0.00510614,\n",
              "        0.00053662, -0.00254271, -0.00846648,  0.00315919, -0.00287703,\n",
              "       -0.00065624, -0.00698063, -0.00841299,  0.00353349, -0.00552658,\n",
              "        0.00027745,  0.00387723, -0.00709583,  0.00062638, -0.00944891,\n",
              "        0.00316157,  0.00556728, -0.00206901,  0.00897958,  0.00946498,\n",
              "        0.00577878,  0.00363994, -0.00877497,  0.00183056, -0.00781392],\n",
              "      dtype=float32)"
            ]
          },
          "metadata": {},
          "execution_count": 33
        }
      ]
    },
    {
      "cell_type": "code",
      "metadata": {
        "colab": {
          "base_uri": "https://localhost:8080/"
        },
        "id": "iu0xjOO_MeUT",
        "outputId": "73768381-b071-4ff0-92c1-e098ada40aa4"
      },
      "source": [
        "d2v_faqs.docvecs.most_similar([predict_vector], topn=2)"
      ],
      "execution_count": null,
      "outputs": [
        {
          "output_type": "execute_result",
          "data": {
            "text/plain": [
              "[('4', 0.17545555531978607), ('3', 0.15061204135417938)]"
            ]
          },
          "metadata": {},
          "execution_count": 32
        }
      ]
    },
    {
      "cell_type": "code",
      "metadata": {
        "colab": {
          "base_uri": "https://localhost:8080/",
          "height": 206
        },
        "id": "JKullS5xMlrF",
        "outputId": "507bd85c-f8c8-4fce-f2e1-6354e67aeeb2"
      },
      "source": [
        ""
      ],
      "execution_count": null,
      "outputs": [
        {
          "output_type": "error",
          "ename": "NameError",
          "evalue": "ignored",
          "traceback": [
            "\u001b[0;31m---------------------------------------------------------------------------\u001b[0m",
            "\u001b[0;31mNameError\u001b[0m                                 Traceback (most recent call last)",
            "\u001b[0;32m<ipython-input-27-cd34330ece68>\u001b[0m in \u001b[0;36m<module>\u001b[0;34m()\u001b[0m\n\u001b[1;32m      1\u001b[0m \u001b[0mtest_string\u001b[0m \u001b[0;34m=\u001b[0m \u001b[0;34m\"1주일중 3일 이상 술을 드시나요?\"\u001b[0m\u001b[0;34m\u001b[0m\u001b[0;34m\u001b[0m\u001b[0m\n\u001b[0;32m----> 2\u001b[0;31m \u001b[0mtokened_test_string\u001b[0m \u001b[0;34m=\u001b[0m \u001b[0mtokenize_kkma\u001b[0m\u001b[0;34m(\u001b[0m\u001b[0mtest_string\u001b[0m\u001b[0;34m)\u001b[0m\u001b[0;34m\u001b[0m\u001b[0;34m\u001b[0m\u001b[0m\n\u001b[0m\u001b[1;32m      3\u001b[0m \u001b[0mtokened_test_string\u001b[0m\u001b[0;34m\u001b[0m\u001b[0;34m\u001b[0m\u001b[0m\n",
            "\u001b[0;31mNameError\u001b[0m: name 'tokenize_kkma' is not defined"
          ]
        }
      ]
    },
    {
      "cell_type": "code",
      "metadata": {
        "id": "D-SzhW14fz1o"
      },
      "source": [
        ""
      ],
      "execution_count": null,
      "outputs": []
    }
  ]
}